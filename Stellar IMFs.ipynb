{
 "cells": [
  {
   "cell_type": "code",
   "execution_count": 8,
   "metadata": {},
   "outputs": [],
   "source": [
    "import numpy as np\n",
    "import scipy.integrate as integrate\n",
    "import matplotlib.pyplot as plt\n",
    "import random as random"
   ]
  },
  {
   "cell_type": "code",
   "execution_count": 2,
   "metadata": {},
   "outputs": [],
   "source": [
    "lower_limit = 0.08\n",
    "upper_limit = 200"
   ]
  },
  {
   "cell_type": "code",
   "execution_count": 3,
   "metadata": {},
   "outputs": [],
   "source": [
    "def salpeter(pop_size, m1, m2):\n",
    "    \"\"\"Salpeter IMF\"\"\"\n",
    "    index = -2.35\n",
    "    norm = pop_size/integrate.quad(lambda m: m**(index), lower_limit, upper_limit)[0]\n",
    "    return integrate.quad(lambda m: norm*m**(index), m1, m2)[0]"
   ]
  },
  {
   "cell_type": "code",
   "execution_count": 4,
   "metadata": {},
   "outputs": [],
   "source": [
    "def kroupa(pop_size, m1, m2):\n",
    "    \"\"\"Kroupa IMF\"\"\"\n",
    "    index_1 = -1.3\n",
    "    index_2 = -2.3\n",
    "    norm = pop_size/(integrate.quad(lambda m: m**(index_1), lower_limit, 0.5)[0] +\\\n",
    "                     integrate.quad(lambda m: m**(index_2), 0.5, upper_limit)[0])\n",
    "    if m1 <= 0.5 and m2 <= 0.5:\n",
    "        return integrate.quad(lambda m: norm*m**(index_1), m1, m2)[0]\n",
    "    elif m1 <= 0.5 and m2 > 0.5:\n",
    "        return (integrate.quad(lambda m: norm*m**(index_1), m1, 0.5)[0] +\\\n",
    "               integrate.quad(lambda m: norm*m**(index_2), 0.5, m2)[0])\n",
    "    else:\n",
    "        return integrate.quad(lambda m: norm*m**(index_2), m1, m2)[0]"
   ]
  },
  {
   "cell_type": "code",
   "execution_count": 5,
   "metadata": {},
   "outputs": [
    {
     "data": {
      "image/png": "[encoded data removed]",
      "text/plain": [
       "<Figure size 432x288 with 1 Axes>"
      ]
     },
     "metadata": {
      "needs_background": "light"
     },
     "output_type": "display_data"
    }
   ],
   "source": [
    "salpeter_frac = []\n",
    "kroupa_frac = []\n",
    "mass_range = np.linspace(lower_limit, upper_limit, 10000)\n",
    "for m in mass_range:\n",
    "    salpeter_frac.append(salpeter(1, 0.08, m))\n",
    "    kroupa_frac.append(kroupa(1, 0.08, m))\n",
    "\n",
    "plt.semilogx(mass_range, salpeter_frac, label='Salpeter')\n",
    "plt.semilogx(mass_range, kroupa_frac, label='Kroupa')\n",
    "plt.legend()\n",
    "plt.xlabel('$m$, solar masses')\n",
    "plt.ylabel('$f(<m)$')\n",
    "plt.title('Comparison of IMFs')\n",
    "plt.show()"
   ]
  },
  {
   "cell_type": "code",
   "execution_count": 6,
   "metadata": {},
   "outputs": [
    {
     "name": "stdout",
     "output_type": "stream",
     "text": [
      "The fraction of M stars is 0.9310725903276051 or 0.6814968248531693\n",
      "The fraction of K stars is 0.030271520991387125 or 0.13602938211616533\n",
      "The fraction of K stars is 0.009260791276756792 or 0.04230925759100072\n"
     ]
    }
   ],
   "source": [
    "M_star_upper = 0.58\n",
    "K_star_upper = 0.89\n",
    "G_star_upper = 1.09\n",
    "print(\"The fraction of M stars is {} or {}\".format(salpeter(1, lower_limit, M_star_upper),\\\n",
    "                                                   kroupa(1, lower_limit, M_star_upper)))\n",
    "print(\"The fraction of K stars is {} or {}\".format(salpeter(1, M_star_upper, K_star_upper),\\\n",
    "                                                   kroupa(1, M_star_upper, K_star_upper)))\n",
    "print(\"The fraction of K stars is {} or {}\".format(salpeter(1, K_star_upper, G_star_upper),\\\n",
    "                                                   kroupa(1, K_star_upper, G_star_upper)))"
   ]
  },
  {
   "cell_type": "code",
   "execution_count": 42,
   "metadata": {},
   "outputs": [
    {
     "name": "stdout",
     "output_type": "stream",
     "text": [
      "[0.08412915684612697, 0.08154369371547826, 0.0857766409218713, 0.10350461165151777, 0.09526245385480249, 0.10315530128104652, 0.12182726327175317, 0.10891327766504136, 0.10810997706540128, 0.15774691503042004, 0.1539031087408229, 0.14623280274710632, 0.17432382629608603, 0.1982574189751813, 0.1941370003173731, 182.3297000497541, 64.06017529885904, 14.032160292188367, 200.0, 200.0] 20\n"
     ]
    }
   ],
   "source": [
    "def generate(pop_size, imf, num_bins):\n",
    "    \"\"\"Generates a randomized stellar population given an IMF, with stars chosen randomly\n",
    "       within a set number of bins\"\"\"\n",
    "    delta_m = 0.00001\n",
    "    m = lower_limit\n",
    "    bin_edges = [lower_limit]\n",
    "    stars_per_bin = int(pop_size/num_bins)\n",
    "    while len(bin_edges) - 1 < num_bins - 1:\n",
    "        lower_edge = bin_edges[-1]\n",
    "        m = lower_edge\n",
    "        while True:\n",
    "            m += delta_m\n",
    "            if imf(pop_size, lower_edge, m) >= stars_per_bin:\n",
    "                bin_edges.append(m)\n",
    "                break\n",
    "            elif m > upper_limit:\n",
    "                bin_edges.append(upper_limit)\n",
    "                break\n",
    "    if len(bin_edges) < upper_limit:\n",
    "        bin_edges.append(upper_limit)\n",
    "    bin_edges.append(upper_limit)\n",
    "    stars_in_top_bin = pop_size - (num_bins - 1)*stars_per_bin\n",
    "    \n",
    "    stars = []\n",
    "    for i in range(len(bin_edges) - 1):\n",
    "        for j in range(stars_per_bin):\n",
    "            if len(stars) >= pop_size:\n",
    "                pass\n",
    "            else:\n",
    "                mass = random.uniform(bin_edges[i], bin_edges[i+1])\n",
    "                stars.append(mass)\n",
    "    \n",
    "    for i in range(0, pop_size - len(stars)):\n",
    "        mass = random.uniform(bin_edges[0], bin_edges[1])\n",
    "        stars.append(mass)\n",
    "    \n",
    "    return stars"
   ]
  },
  {
   "cell_type": "code",
   "execution_count": null,
   "metadata": {},
   "outputs": [],
   "source": []
  }
 ],
 "metadata": {
  "kernelspec": {
   "display_name": "Python 3",
   "language": "python",
   "name": "python3"
  },
  "language_info": {
   "codemirror_mode": {
    "name": "ipython",
    "version": 3
   },
   "file_extension": ".py",
   "mimetype": "text/x-python",
   "name": "python",
   "nbconvert_exporter": "python",
   "pygments_lexer": "ipython3",
   "version": "3.6.7"
  }
 },
 "nbformat": 4,
 "nbformat_minor": 2
}
